{
 "cells": [
  {
   "cell_type": "markdown",
   "metadata": {},
   "source": [
    "## ディリクレ過程混合ガウスモデル(DPGMM)の実装"
   ]
  },
  {
   "cell_type": "markdown",
   "metadata": {},
   "source": [
    "中華料理店過程を使ってディリクレ過程を表現した。\n",
    "\n",
    "なお、現在のsk-learnでDPGMMのライブラリーは存在するが、stick-breaking表現での実装となっている。"
   ]
  },
  {
   "cell_type": "markdown",
   "metadata": {},
   "source": [
    "### モデル"
   ]
  },
  {
   "cell_type": "markdown",
   "metadata": {},
   "source": [
    "$i = 1, \\dots, n$ において、\n",
    "$$\n",
    "x_i \\sim N(\\theta_i , \\tau^{-1} I)\n",
    "$$\n",
    "\n",
    "$$\n",
    "\\theta_i = \\begin{cases}\n",
    "            \\mu_k \\hspace{15pt} (k = 1, 2, \\dots , K^+) \\quad \\frac{n_k^{\\backslash i}}{n - 1 + \\alpha} の確率 \\\\\n",
    "            \\mu_{K^+ + 1} \\sim N(\\mu_0 , \\tau^{-1} I) \\quad \\frac{\\alpha}{n - 1 + \\alpha} の確率 \\\\\n",
    "    \\end{cases}\n",
    "$$\n",
    "\n",
    "$$\n",
    "z_i = k \\\\\n",
    "\\mu_k \\sim N(\\mu_0, (\\rho_0 \\tau)^{-1} I) \\\\\n",
    "\\tau \\sim Ga(a_0, b_0)\n",
    "$$"
   ]
  },
  {
   "cell_type": "markdown",
   "metadata": {},
   "source": [
    "### アルゴリズム"
   ]
  },
  {
   "cell_type": "markdown",
   "metadata": {},
   "source": [
    "(1) $z_i = 1 \\hspace{5pt}(i = 1, \\dots n)$ で初期化する.\n",
    "\n",
    "(2) ハイパーパラメータは$ \\mu_0 = \\vec{0}, \\rho_0 = 1, a_0 = 1, b_0 = 1$ で設定する.\n",
    "\n",
    "(3) $\\mu_1$ と $\\tau$ をランダムで初期化する.\n",
    "\n",
    "(4) 以下ⅰ~ⅲを $s = 1, \\dots, S$ 回繰り返す.\n",
    "\n",
    "ⅰ. $p(z_i = k | x_{1:n}) = \\begin{cases}\n",
    "            p(x_i | \\mu_k, \\tau) \\frac{n_k^{\\backslash i}}{n - 1 + \\alpha} \\hspace{9pt} \\quad \\textrm{if} \\hspace{9pt} k = 1, 2, \\dots , K^+ \\\\\n",
    "            p(x_i | \\mu_k, \\tau) \\frac{\\alpha}{n - 1 + \\alpha} \\hspace{9pt} \\quad \\textrm{if} \\hspace{9pt} k = K^+ + 1\\\\\n",
    "    \\end{cases}$ \n",
    "から $z_i (i = 1, \\dots, n)$ をサンプリングする. <br>\n",
    "ただし, $k = K^+ + 1$ のときは $\\mu_k \\sim N(\\mu_0, (\\tau \\rho_0)^{-1}I)$ から $\\mu_k$ を新しく生成する.\n",
    "\n",
    "ⅱ. $p(\\mu_k | x_{1:n}, z_{1:n}, \\tau, \\mu_0, \\rho_0) = N \\left( \\mu_k | \\frac{n_k}{n_k + \\rho_0} \\bar{x}_k + \\frac{\\rho_0}{n_k + \\rho_0} \\mu_0, (\\tau(n_k + \\rho_0))^{-1} I \\right) $ から $\\mu_k (k = 1, \\dots, K^+)$ をサンプリングする.\n",
    "\n",
    "ⅲ. \n",
    "\n",
    "$$\n",
    "\\begin{eqnarray*}\n",
    "& & p(\\tau | x_{1:n}, z_{1:n}, \\mu_0, \\rho_0, a_0, b_0) \\\\\n",
    "&=&\n",
    "Ga \\left( \\tau {\\Large|} a_0 + \\frac{nD}{2}, \n",
    "b_0 + \\sum_{k = 1}^{K^+} \\left( \\frac{1}{2} \\sum_{i = 1}^{n} \\delta(z_i = k) \\| x_i - \\bar{x}_k \\| ^2 \n",
    "+ \\frac{n_k \\rho_0}{2(\\rho_0 + n_k} \\| \\bar{x}_k - \\mu_0 \\| ^2 \\right) \\right)\n",
    "\\end{eqnarray*}\n",
    "$$\n",
    "\n",
    "から $\\tau$ をサンプリングする.\n",
    "\n"
   ]
  },
  {
   "cell_type": "markdown",
   "metadata": {},
   "source": [
    "### ライブラリー"
   ]
  },
  {
   "cell_type": "code",
   "execution_count": 1,
   "metadata": {
    "colab": {},
    "colab_type": "code",
    "id": "4LwWVfnyVpl-"
   },
   "outputs": [],
   "source": [
    "import numpy as np\n",
    "import matplotlib.pyplot as plt\n",
    "import scipy.stats as stats"
   ]
  },
  {
   "cell_type": "markdown",
   "metadata": {},
   "source": [
    "### データ"
   ]
  },
  {
   "cell_type": "markdown",
   "metadata": {},
   "source": [
    "今回のモデルは、混合正規分布のそれぞれの分散共分散行列を全て対角行列として仮定している。\n",
    "\n",
    "そのため、この仮定のもとでシミュレーションデータを作る。"
   ]
  },
  {
   "cell_type": "code",
   "execution_count": 2,
   "metadata": {
    "colab": {},
    "colab_type": "code",
    "id": "Xy_H_Zz9VpmB"
   },
   "outputs": [],
   "source": [
    "#2変量正規\n",
    "#平均ベクトルと共分散行列\n",
    "np.random.seed(1)\n",
    "n1 = 40\n",
    "n2 = 50\n",
    "n3 = 60\n",
    "true_mu1 = [30, 30]\n",
    "true_mu2 = [0, -50]\n",
    "true_mu3 = [-40, 30]\n",
    "\n",
    "true_sigma1 = np.array([200,0,0,150]).reshape([2,2])\n",
    "true_sigma2 = np.array([200,0,0,200]).reshape([2,2])\n",
    "true_sigma3 = np.array([100,0,0,300]).reshape([2,2])\n",
    "\n",
    "#2次元正規乱数\n",
    "MN1 = np.random.multivariate_normal(true_mu1, true_sigma1, n1)\n",
    "MN2 = np.random.multivariate_normal(true_mu2, true_sigma2, n2)\n",
    "MN3 = np.random.multivariate_normal(true_mu3, true_sigma3, n3)\n",
    "\n",
    "data_X = np.vstack([MN1,MN2,MN3])\n",
    "true_z = np.hstack([np.full(n1,1),np.full(n2,2),np.full(n3,3)])"
   ]
  },
  {
   "cell_type": "code",
   "execution_count": 3,
   "metadata": {
    "colab": {
     "base_uri": "https://localhost:8080/",
     "height": 392
    },
    "colab_type": "code",
    "id": "1bseajd4VpmD",
    "outputId": "09081bcb-6f0e-4007-a58a-c15b84e1f650"
   },
   "outputs": [
    {
     "data": {
      "text/plain": [
       "[<matplotlib.lines.Line2D at 0x2215849ea48>]"
      ]
     },
     "execution_count": 3,
     "metadata": {},
     "output_type": "execute_result"
    },
    {
     "data": {
      "image/png": "[encoded data removed]",
      "text/plain": [
       "<Figure size 576x432 with 1 Axes>"
      ]
     },
     "metadata": {
      "needs_background": "light"
     },
     "output_type": "display_data"
    }
   ],
   "source": [
    "#グラフをプロット\n",
    "fig, ax = plt.subplots(1, 1, figsize=(8, 6))\n",
    "ax.plot(MN1[:,0],MN1[:,1], 'o')\n",
    "ax.plot(MN2[:,0],MN2[:,1], 'o')\n",
    "ax.plot(MN3[:,0],MN3[:,1], 'o')"
   ]
  },
  {
   "cell_type": "markdown",
   "metadata": {},
   "source": [
    "### DPGMMの実装"
   ]
  },
  {
   "cell_type": "code",
   "execution_count": 4,
   "metadata": {
    "colab": {},
    "colab_type": "code",
    "id": "eWAKtKu3VpmF"
   },
   "outputs": [],
   "source": [
    "class DPGMM:\n",
    "    def __init__(self,alpha=1,mu0=0,rho0=1,a0=1,b0=1,burnin=100,max_iter=100):\n",
    "        self.alpha = alpha\n",
    "        self.rho0 = rho0\n",
    "        self.a0 = a0\n",
    "        self.b0 = b0\n",
    "        self.max_iter = max_iter\n",
    "        self.burnin = burnin\n",
    "        self.mu0 = mu0\n",
    "    \n",
    "    def _init_z(self):\n",
    "        z = []\n",
    "        for i in range(self._N):\n",
    "            z.append(0)\n",
    "        return np.array(z)\n",
    "    \n",
    "    def _init_gamma(self):\n",
    "        return np.random.gamma(self.a0, 1 / self.b0)\n",
    "    \n",
    "    def _init_mu(self):\n",
    "        return np.random.multivariate_normal(self.mu0_vector, self.Sigma, 1)[0]\n",
    "    \n",
    "    def _sample_z(self):\n",
    "        for i in range(self._N):\n",
    "            z_minus_i = np.delete(self.z,i)                \n",
    "            prob_k_list = []\n",
    "                        \n",
    "            for k in range(self.n):\n",
    "                p_zi = np.count_nonzero(z_minus_i == k)\n",
    "                prob_k_list.append(self._Gaussian_pdf(self._X[i], self.mu[k], self.Sigma) * p_zi)\n",
    "\n",
    "            #new_claster            \n",
    "            mu_new_k = self._init_mu()\n",
    "            p_zi = self.alpha\n",
    "\n",
    "            prob_k_list.append(self._Gaussian_pdf(self._X[i], mu_new_k, self.Sigma) * p_zi)\n",
    "\n",
    "            # zを決める\n",
    "            prob_k_list = np.array(prob_k_list)\n",
    "            prob_k_list = prob_k_list / np.sum(prob_k_list)            \n",
    "            self.z[i] = np.random.multinomial(1,prob_k_list,size = 1).argmax()\n",
    "            \n",
    "            # 新しいクラスターが選択された場合、mu_kを新しく作る\n",
    "            if self.z[i] == self.n:\n",
    "                self.n += 1\n",
    "                self.mu.append(mu_new_k)\n",
    "            \n",
    "    def _sample_mu(self):\n",
    "        for k in range(self.n):\n",
    "            if k in self.z:\n",
    "                x_bar = np.mean(self._X[self.z == k], axis = 0)\n",
    "                nk = np.count_nonzero(self.z == k)\n",
    "                mean = (nk / (nk + self.rho0)) * x_bar + (self.rho0 / (nk + self.rho0)) * self.mu0_vector\n",
    "                cov = (1.0 / (self.gamma * (nk + self.rho0))) * np.eye(self._D)\n",
    "                self.mu[k] = np.random.multivariate_normal(mean, cov, 1)[0]\n",
    "                \n",
    "    def _sample_gamma(self):\n",
    "        a = self.a0 + (self._N * self._D)/2.0\n",
    "        b = self.b0\n",
    "        for k in range(self.n):\n",
    "            if k in self.z:\n",
    "                x_bar = np.mean(self._X[self.z == k], axis = 0)\n",
    "                nk = np.count_nonzero(self.z == k)\n",
    "                b += 0.5 * np.sum(np.linalg.norm(self._X[self.z == k] - x_bar,axis=1) ** 2)\n",
    "                \n",
    "                b += (0.5 * (nk * self.rho0) / (self.rho0 + nk)) * np.linalg.norm(x_bar - self.mu0_vector) ** 2\n",
    "                \n",
    "        self.gamma = np.random.gamma(a, 1.0 / b)\n",
    "        self.Sigma = (1.0/(self.rho0*self.gamma)) * np.eye(self._D)\n",
    "\n",
    "    \n",
    "    def _Gaussian_pdf(self,x,mu,Sigma):\n",
    "        g = -0.5 * ((x - mu) @ np.linalg.inv(Sigma) @ (x - mu).T)\n",
    "        \n",
    "        exp_g = np.exp(g) #/ np.linalg.det(sigma)\n",
    "\n",
    "        return exp_g\n",
    "    \n",
    "    def _delete_empty_claster(self):\n",
    "        # 使われていないクラスターは削除する\n",
    "        k = 0\n",
    "        while k < self.n:\n",
    "            if np.count_nonzero(self.z == k) == 0:\n",
    "                del self.mu[k]\n",
    "                self.z = np.where(self.z > k, self.z - 1, self.z)\n",
    "                self.n -= 1\n",
    "            k += 1\n",
    "\n",
    "    def fit(self, X):\n",
    "        self._X = X\n",
    "        self._N = X.shape[0]\n",
    "        self._D = X.shape[1]\n",
    "        self.z = self._init_z()\n",
    "\n",
    "        self.mu0_vector = np.full(self._D, self.mu0)\n",
    "        self.gamma = self._init_gamma()\n",
    "        self.Sigma = (1.0/(self.rho0*self.gamma)) * np.eye(self._D)\n",
    "        \n",
    "        #self.n is number of claster\n",
    "        self.n = 1\n",
    "        self.mu = [self._init_mu()]\n",
    "        \n",
    "        self.trace_gamma = np.zeros(self.max_iter)\n",
    "        self.trace_z = np.zeros([self.max_iter,self._N])\n",
    "        \n",
    "        for i in range(self.max_iter + self.burnin):\n",
    "            self._sample_z()\n",
    "            self._delete_empty_claster()\n",
    "            self._sample_mu()\n",
    "            self._sample_gamma()\n",
    "            \n",
    "            if i >= self.burnin:\n",
    "                self.trace_gamma[i - self.burnin] = self.gamma\n",
    "                self.trace_z[i - self.burnin] = self.z\n",
    "        \n",
    "        return self\n",
    "        \n",
    "    def pred_z(self, X):\n",
    "        # 新しいデータXに対して予測値を出力する\n",
    "        N = X.shape[0]\n",
    "        D = X.shape[1]\n",
    "        pred_z = np.zeros(N)\n",
    "        for i in range(N):\n",
    "            pred_list = []\n",
    "            for k in range(self.n):\n",
    "                #nkはselfでいいかも\n",
    "                nk = np.count_nonzero(self.z == k)\n",
    "                pred_list.append(self._Gaussian_pdf(X[i], self.mu[k], self.Sigma) * nk)\n",
    "            \n",
    "            pred_list = np.array(pred_list)\n",
    "            # 確率が最大になるクラスターをzにする\n",
    "            pred_z[i] = pred_list.argmax()\n",
    "        \n",
    "        return pred_z"
   ]
  },
  {
   "cell_type": "markdown",
   "metadata": {},
   "source": [
    "### 推定"
   ]
  },
  {
   "cell_type": "markdown",
   "metadata": {},
   "source": [
    "データをそのまま突っ込むとオーバーフローしたので、一度標準化した。"
   ]
  },
  {
   "cell_type": "code",
   "execution_count": 5,
   "metadata": {
    "colab": {
     "base_uri": "https://localhost:8080/",
     "height": 35
    },
    "colab_type": "code",
    "id": "CuuXfDo9VpmH",
    "outputId": "0ccc0abf-8686-43d0-f648-6eecd10b3cf9"
   },
   "outputs": [
    {
     "data": {
      "text/plain": [
       "<__main__.DPGMM at 0x22158560c08>"
      ]
     },
     "execution_count": 5,
     "metadata": {},
     "output_type": "execute_result"
    }
   ],
   "source": [
    "np.random.seed(1)\n",
    "normalized_X = stats.zscore(data_X,axis=0)\n",
    "DPGMM_obj = DPGMM(burnin=500,max_iter=500)\n",
    "DPGMM_obj.fit(normalized_X)"
   ]
  },
  {
   "cell_type": "code",
   "execution_count": 6,
   "metadata": {
    "colab": {},
    "colab_type": "code",
    "id": "YGXuxA-RVpmJ"
   },
   "outputs": [],
   "source": [
    "z = DPGMM_obj.z\n",
    "mu_list = DPGMM_obj.mu.copy()\n",
    "sigma = DPGMM_obj.Sigma\n",
    "gamma = DPGMM_obj.gamma\n",
    "n = DPGMM_obj.n\n",
    "pred_z = DPGMM_obj.pred_z(normalized_X)\n",
    "trace_gamma = DPGMM_obj.trace_gamma\n",
    "trace_z = DPGMM_obj.trace_z"
   ]
  },
  {
   "cell_type": "markdown",
   "metadata": {},
   "source": [
    "### サンプリングされた分散パラメータの時系列プロット"
   ]
  },
  {
   "cell_type": "code",
   "execution_count": 7,
   "metadata": {
    "scrolled": false
   },
   "outputs": [
    {
     "data": {
      "text/plain": [
       "[<matplotlib.lines.Line2D at 0x22158565e48>]"
      ]
     },
     "execution_count": 7,
     "metadata": {},
     "output_type": "execute_result"
    },
    {
     "data": {
      "image/png": "[encoded data removed]",
      "text/plain": [
       "<Figure size 432x288 with 1 Axes>"
      ]
     },
     "metadata": {
      "needs_background": "light"
     },
     "output_type": "display_data"
    }
   ],
   "source": [
    "plt.plot(trace_gamma)"
   ]
  },
  {
   "cell_type": "markdown",
   "metadata": {},
   "source": [
    "### クラスタリングの結果"
   ]
  },
  {
   "cell_type": "code",
   "execution_count": 8,
   "metadata": {},
   "outputs": [
    {
     "data": {
      "text/plain": [
       "[<matplotlib.lines.Line2D at 0x221585d2d48>]"
      ]
     },
     "execution_count": 8,
     "metadata": {},
     "output_type": "execute_result"
    },
    {
     "data": {
      "image/png": "[encoded data removed]",
      "text/plain": [
       "<Figure size 576x432 with 1 Axes>"
      ]
     },
     "metadata": {
      "needs_background": "light"
     },
     "output_type": "display_data"
    }
   ],
   "source": [
    "#グラフをプロット\n",
    "fig, ax = plt.subplots(1, 1, figsize=(8, 6))\n",
    "ax.plot(data_X[pred_z == 2][:,0],data_X[pred_z == 2][:,1], 'o')\n",
    "ax.plot(data_X[pred_z == 1][:,0],data_X[pred_z == 1][:,1], 'o')\n",
    "ax.plot(data_X[pred_z == 0][:,0],data_X[pred_z == 0][:,1], 'o')\n",
    "ax.plot(data_X[(pred_z != 0) & (pred_z != 1) & (pred_z != 2)][:,0],\n",
    "        data_X[(pred_z != 0) & (pred_z != 1) & (pred_z != 2)][:,1], 'o')"
   ]
  }
 ],
 "metadata": {
  "colab": {
   "collapsed_sections": [],
   "name": "DPGMM_class_ver1.ipynb",
   "provenance": []
  },
  "kernelspec": {
   "display_name": "Python 3",
   "language": "python",
   "name": "python3"
  },
  "language_info": {
   "codemirror_mode": {
    "name": "ipython",
    "version": 3
   },
   "file_extension": ".py",
   "mimetype": "text/x-python",
   "name": "python",
   "nbconvert_exporter": "python",
   "pygments_lexer": "ipython3",
   "version": "3.7.4"
  }
 },
 "nbformat": 4,
 "nbformat_minor": 1
}
