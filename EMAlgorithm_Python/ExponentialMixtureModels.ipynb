{
 "cells": [
  {
   "cell_type": "markdown",
   "metadata": {},
   "source": [
    "# 混合指数分布を実装する"
   ]
  },
  {
   "cell_type": "markdown",
   "metadata": {},
   "source": [
    "### インポートモジュール"
   ]
  },
  {
   "cell_type": "code",
   "execution_count": 2,
   "metadata": {},
   "outputs": [],
   "source": [
    "import numpy as np\n",
    "import matplotlib.pyplot as plt\n",
    "import scipy"
   ]
  },
  {
   "cell_type": "markdown",
   "metadata": {},
   "source": [
    "## 1.まず指数分布について"
   ]
  },
  {
   "cell_type": "markdown",
   "metadata": {},
   "source": [
    "指数分布の確率密度関数は、\n",
    "$$\n",
    "f(x) = \\lambda exp(-\\lambda x)\n",
    "$$\n",
    "\n",
    "であり、N個のサンプル$(x_1,x_2,\\cdots,x_N)$の対数尤度関数は、\n",
    "$$\n",
    "\\begin{align}\n",
    "l(\\lambda|x) &= \\sum_{i = 1}^{N}\\log(\\lambda \\exp(-\\lambda x_i)) \\\\\n",
    "&=n\\log\\lambda - \\lambda \\sum_{i = 1}^{N}x_j\n",
    "\\end{align}\n",
    "$$\n",
    "\n",
    "よって最尤推定量は、\n",
    "$$\n",
    "\\hat{\\lambda}^{MLE} = \\frac{N}{\\sum_{i = 1}^{N}x_i}\n",
    "$$"
   ]
  },
  {
   "cell_type": "markdown",
   "metadata": {},
   "source": [
    "### 指数分布の実装"
   ]
  },
  {
   "cell_type": "code",
   "execution_count": 3,
   "metadata": {},
   "outputs": [],
   "source": [
    "class ExpDistribution:\n",
    "    def __init__(self):\n",
    "        self.param_la = np.random.rand(1)\n",
    "    \n",
    "    # DensityFunction\n",
    "    def PDF(self,x):\n",
    "        return self.param_la * np.exp(-1 * self.param_la * x)\n",
    "    \n",
    "    # MaximumLikelihoodEstimation\n",
    "    def MLEfit(self,x):\n",
    "        self.param_la = len(x) / np.sum(x)\n",
    "        return self.param_la\n",
    "    \n",
    "    def set_lambda(self,param_la):\n",
    "        self.param_la = param_la\n"
   ]
  },
  {
   "cell_type": "markdown",
   "metadata": {},
   "source": [
    "## 2.ポアソン過程をシミュレーションしてみる"
   ]
  },
  {
   "cell_type": "markdown",
   "metadata": {},
   "source": [
    "一定確率で起こるイベントが、発生するまでの時間をシミュレーションする。\n",
    "ただし、観測の右側打ち切りは無いものとする。"
   ]
  },
  {
   "cell_type": "code",
   "execution_count": 4,
   "metadata": {},
   "outputs": [],
   "source": [
    "# 確率一定でランダムに起きる事象をシミュレーション\n",
    "def rand_event(size_N = 5000,event_p = 0.05):\n",
    "    x = np.zeros(size_N)\n",
    "    j = 0\n",
    "    # 今回は観測打ち切りはない\n",
    "    #for j in range(int(1/event_p) *100):\n",
    "    while np.any(x == 0):\n",
    "        j += 1\n",
    "        # 遅いのでnumpy使う\n",
    "#         for i in range(size):\n",
    "#             if (np.random.binomial(n = 1,p = event_p) == 1) & (x[i] == 0):\n",
    "#                 x[i] = j\n",
    "        y = np.random.binomial(n = 1,p = event_p,size = size_N)*j\n",
    "    \n",
    "        x = np.where((y != 0) & (x ==0),y,x)\n",
    "\n",
    "    return x"
   ]
  },
  {
   "cell_type": "code",
   "execution_count": 5,
   "metadata": {},
   "outputs": [],
   "source": [
    "np.random.seed(0)\n",
    "y = rand_event(size_N = 100000,event_p=0.05)"
   ]
  },
  {
   "cell_type": "code",
   "execution_count": 10,
   "metadata": {},
   "outputs": [
    {
     "data": {
      "image/png": "[encoded data removed]",
      "text/plain": [
       "<Figure size 432x288 with 1 Axes>"
      ]
     },
     "metadata": {
      "needs_background": "light"
     },
     "output_type": "display_data"
    }
   ],
   "source": [
    "plt.hist(y,bins = 50)\n",
    "plt.show()"
   ]
  },
  {
   "cell_type": "code",
   "execution_count": 11,
   "metadata": {},
   "outputs": [],
   "source": [
    "# 連続した整数\n",
    "x = np.arange(np.max(y))\n",
    "# 指数分布オブジェクト\n",
    "Exp_object = ExpDistribution()"
   ]
  },
  {
   "cell_type": "markdown",
   "metadata": {},
   "source": [
    "## シミュレートしたデータに対して、指数分布をfitting"
   ]
  },
  {
   "cell_type": "code",
   "execution_count": 12,
   "metadata": {},
   "outputs": [
    {
     "data": {
      "image/png": "[encoded data removed]",
      "text/plain": [
       "<Figure size 432x288 with 1 Axes>"
      ]
     },
     "metadata": {
      "needs_background": "light"
     },
     "output_type": "display_data"
    },
    {
     "data": {
      "text/plain": [
       "0.04984537963238036"
      ]
     },
     "execution_count": 12,
     "metadata": {},
     "output_type": "execute_result"
    }
   ],
   "source": [
    "# パラメーターを最尤推定値で更新\n",
    "Exp_object.MLEfit(y)\n",
    "\n",
    "plt.hist(y,bins = 50,density = True)\n",
    "plt.plot(Exp_object.PDF(x))\n",
    "plt.show()\n",
    "\n",
    "# 推定されたパラメータ\n",
    "Exp_object.param_la"
   ]
  },
  {
   "cell_type": "code",
   "execution_count": 25,
   "metadata": {},
   "outputs": [
    {
     "data": {
      "image/png": "[encoded data removed]",
      "text/plain": [
       "<Figure size 432x288 with 1 Axes>"
      ]
     },
     "metadata": {
      "needs_background": "light"
     },
     "output_type": "display_data"
    }
   ],
   "source": [
    "size_N = 100000\n",
    "bins_num = 50\n",
    "dt = np.max(y) / bins_num\n",
    "plt.hist(y,bins = bins_num)\n",
    "plt.plot(Exp_object.PDF(x) * size_N *dt)\n",
    "plt.show()"
   ]
  },
  {
   "cell_type": "markdown",
   "metadata": {},
   "source": [
    "フィットしている"
   ]
  },
  {
   "cell_type": "markdown",
   "metadata": {},
   "source": [
    "# 2.混合指数モデル"
   ]
  },
  {
   "cell_type": "markdown",
   "metadata": {},
   "source": [
    "## 利点"
   ]
  },
  {
   "cell_type": "markdown",
   "metadata": {},
   "source": [
    "あるイベント(ポアソン過程に従う)についての発生確率が異なる集団に対して、一つの確率分布で表現できる。<br>\n",
    "イベントが発生するまでの時間に関してのデータのみが観測できたとき、そのデータを使って、クラスタを特定(ただし、確率的)できる。"
   ]
  },
  {
   "cell_type": "markdown",
   "metadata": {},
   "source": [
    "## 初期状態"
   ]
  },
  {
   "cell_type": "code",
   "execution_count": 13,
   "metadata": {},
   "outputs": [],
   "source": [
    "K = 2\n",
    "sample_size_1 = 200000\n",
    "sample_size_2 = 100000"
   ]
  },
  {
   "cell_type": "code",
   "execution_count": 14,
   "metadata": {},
   "outputs": [],
   "source": [
    "np.random.seed(0)\n",
    "time_1 = rand_event(size_N = sample_size_1,event_p=0.05)\n",
    "time_2 = rand_event(size_N = sample_size_2,event_p=0.2)\n",
    "time_1and2 = np.hstack((time_1,time_2))"
   ]
  },
  {
   "cell_type": "code",
   "execution_count": 15,
   "metadata": {},
   "outputs": [
    {
     "data": {
      "image/png": "[encoded data removed]",
      "text/plain": [
       "<Figure size 432x288 with 1 Axes>"
      ]
     },
     "metadata": {
      "needs_background": "light"
     },
     "output_type": "display_data"
    }
   ],
   "source": [
    "max_time_1and2 = np.max(time_1and2).astype(int)\n",
    "bins_1and2 = range(0,max_time_1and2,5)\n",
    "\n",
    "#plt.hist((time_1,time_2),bins = 100)\n",
    "plt.hist(time_1,bins = bins_1and2,alpha = 0.5)\n",
    "plt.hist(time_2,bins = bins_1and2,alpha = 0.5)\n",
    "plt.show()"
   ]
  },
  {
   "cell_type": "markdown",
   "metadata": {},
   "source": [
    "どちらのクラスかわからずに観測されている場合は、下図のようになる。"
   ]
  },
  {
   "cell_type": "code",
   "execution_count": 16,
   "metadata": {},
   "outputs": [
    {
     "data": {
      "image/png": "[encoded data removed]",
      "text/plain": [
       "<Figure size 432x288 with 1 Axes>"
      ]
     },
     "metadata": {
      "needs_background": "light"
     },
     "output_type": "display_data"
    }
   ],
   "source": [
    "plt.hist((time_2,time_1),stacked = True,bins = 50)\n",
    "plt.show()"
   ]
  },
  {
   "cell_type": "code",
   "execution_count": 17,
   "metadata": {},
   "outputs": [
    {
     "data": {
      "image/png": "[encoded data removed]",
      "text/plain": [
       "<Figure size 432x288 with 1 Axes>"
      ]
     },
     "metadata": {
      "needs_background": "light"
     },
     "output_type": "display_data"
    }
   ],
   "source": [
    "# パラメーターを最尤推定値で更新\n",
    "Exp_object.MLEfit(time_1and2)\n",
    "#plt.plot(Exp_object.PDF(y)*1000)\n",
    "size_N = sample_size_1 + sample_size_2\n",
    "bins_num = 50\n",
    "dt = np.max(time_1and2) / bins_num\n",
    "x_dist = np.arange(np.max(time_1and2))\n",
    "\n",
    "plt.hist(time_1and2,bins = bins_num)\n",
    "plt.plot(Exp_object.PDF(x_dist) * size_N *dt)\n",
    "plt.show()"
   ]
  },
  {
   "cell_type": "markdown",
   "metadata": {},
   "source": [
    "この場合、うまくフィットできていない"
   ]
  },
  {
   "cell_type": "markdown",
   "metadata": {},
   "source": [
    "## 本題 : 混合指数分布について"
   ]
  },
  {
   "cell_type": "markdown",
   "metadata": {},
   "source": [
    "### 確率密度関数"
   ]
  },
  {
   "cell_type": "markdown",
   "metadata": {},
   "source": [
    "$\\lambda = (\\lambda_1,\\lambda_2,\\cdots,\\lambda_k)$ , $\\lambda_i > 0$,<br>\n",
    "$\\pi = (\\pi_1,\\pi_2,\\cdots,\\pi_k)$ , $0<\\pi_i<1$ , $\\sum_{k = 1}^{K}\\pi_k = 1 $を満たすとする。<br>\n",
    "pdfは、\n",
    "$$\n",
    "f(x|\\pi,\\lambda) = \\sum_{k = 1}^{K}\\pi_k \\lambda_k exp(-\\lambda_k x)\n",
    "$$\n",
    "\n"
   ]
  },
  {
   "cell_type": "markdown",
   "metadata": {},
   "source": [
    "### 混合指数分布の最尤推定"
   ]
  },
  {
   "cell_type": "markdown",
   "metadata": {},
   "source": [
    "最適化問題は、\n",
    "$$\n",
    "\\max_{\\lambda,\\pi} \\left[\\sum_{n=1}^{N}\\log{\\sum_{k = 1}^{K}\\pi_k \\lambda_k exp(-\\lambda_k x)}\\right]　\\\\\n",
    "s.t. \\sum_{k = 0}^{K}\\pi_{k} = 1\n",
    "$$\n",
    "\n",
    "対数尤度関数の下界を最大化する式に変形すると、\n",
    "\n",
    "$$\n",
    "\\max_{Q}\\left[\n",
    "\\sum_{n = 1}^{N}\\sum_{k = 1}^{K}Q_{nk}(\\log{\\pi_k} + \n",
    "\\log{\\lambda_k} -\\lambda_k x -\\log{Q_{nk}})\n",
    "\\right]\\\\\n",
    "s.t. \\sum_{k = 1}^{K}Q_{nk} = 1\n",
    "$$"
   ]
  },
  {
   "cell_type": "markdown",
   "metadata": {},
   "source": [
    "これを解き、\n",
    "$$\n",
    "Q_{nk} = \\frac{\\pi_k\\lambda_k\\exp(-\\lambda_k x_n)}\n",
    "{\\sum_{k'= 1}^{K}\\pi_{k'}\\lambda_{k'}\\exp(-\\lambda_{k'}x_n)}\n",
    "$$\n",
    "\n",
    "この$Q_{nk}$を使って、$\\lambda,\\pi$を推定する\n",
    "$$\n",
    "\\begin{align}\n",
    "\\lambda_k &= \\frac{\\sum_{n = 1}^{N}Q_{nk}}{\\sum_{n' = \n",
    "1}^{N}Q_{n'k}x_{n'}} \\\\\n",
    "\\pi_k &= \\frac{\\sum_{n = 1}^{N}Q_{nk}}{\\sum_{n' = \n",
    "1}^{N}\\sum_{k' = 1}^{K} Q_{n'k'}}\n",
    "\\end{align}\n",
    "$$"
   ]
  },
  {
   "cell_type": "markdown",
   "metadata": {},
   "source": [
    "### 実装"
   ]
  },
  {
   "cell_type": "code",
   "execution_count": 19,
   "metadata": {},
   "outputs": [],
   "source": [
    "class ExpMixModel:\n",
    "    def __init__(self,num_components = 2):\n",
    "        self.num_components = num_components\n",
    "        self.ExpDist_list = []\n",
    "        self.weight = np.ones(self.num_components) / self.num_components\n",
    "        for _ in range(self.num_components):\n",
    "            self.ExpDist_list.append(ExpDistribution())\n",
    "        \n",
    "    def e_step(self, X):\n",
    "        posterior = np.zeros((X.shape[0], self.num_components))\n",
    "        for each_component in range(self.num_components):\n",
    "            posterior[:, each_component] \\\n",
    "               = self.weight[each_component] * self.ExpDist_list[each_component].PDF(X)\n",
    "        posterior = posterior / posterior.sum(axis=1).reshape(-1, 1)\n",
    "        return posterior\n",
    "    \n",
    "    def m_step(self, X, posterior):\n",
    "        self.weight = posterior.sum(axis=0)\n",
    "        for each_component in range(self.num_components):\n",
    "\n",
    "            self.ExpDist_list[each_component].set_lambda( self.weight[each_component] / (posterior[:, each_component] @ X))\n",
    "            \n",
    "        self.weight = self.weight / np.sum(self.weight)\n",
    "    \n",
    "    def log_pdf(self, X):\n",
    "        sample_size = X.shape[0]\n",
    "        likelihood = np.zeros(sample_size) # 各データの尤度を計算する\n",
    "        for each_component in range(self.num_components):\n",
    "            likelihood = likelihood + self.weight[each_component] * self.ExpDist_list[each_component].PDF(X)\n",
    "        # 対数尤度を返す\n",
    "        return np.log(likelihood)\n",
    "    \n",
    "    def fit(self, X, eps=1e-8):\n",
    "        sample_size = X.shape[0]\n",
    "        converge = False\n",
    "        old_ll = -np.inf\n",
    "        new_ll = -np.inf\n",
    "        while not converge:\n",
    "            posterior = self.e_step(X)\n",
    "            self.m_step(X, posterior)\n",
    "            new_ll = self.log_pdf(X).sum()\n",
    "            if new_ll < old_ll:\n",
    "                raise ValueError('likelihood decreases!')\n",
    "            if np.abs(old_ll - new_ll) / np.abs(new_ll) < eps:\n",
    "                converge = True\n",
    "            old_ll = new_ll\n",
    "        return posterior"
   ]
  },
  {
   "cell_type": "code",
   "execution_count": 31,
   "metadata": {},
   "outputs": [],
   "source": [
    "# オブジェクトを作る\n",
    "np.random.seed(0)\n",
    "EMM = ExpMixModel()"
   ]
  },
  {
   "cell_type": "markdown",
   "metadata": {},
   "source": [
    "### クラスタがわからない状態のデータに対して適用してみる"
   ]
  },
  {
   "cell_type": "code",
   "execution_count": 32,
   "metadata": {},
   "outputs": [
    {
     "data": {
      "image/png": "[encoded data removed]",
      "text/plain": [
       "<Figure size 432x288 with 1 Axes>"
      ]
     },
     "metadata": {
      "needs_background": "light"
     },
     "output_type": "display_data"
    }
   ],
   "source": [
    "# パラメーターをEMアルゴリズムで更新\n",
    "np.random.seed(0)\n",
    "EMM.fit(time_1and2)\n",
    "#plt.plot(Exp_object.PDF(y)*1000)\n",
    "size_N = sample_size_1 + sample_size_2\n",
    "bins_num = 50\n",
    "dt = np.max(time_1and2) / bins_num\n",
    "x_dist = np.arange(np.max(time_1and2))\n",
    "\n",
    "plt.hist(time_1and2,bins = bins_num)\n",
    "plt.plot(np.exp(EMM.log_pdf(x_dist)) * size_N *dt)\n",
    "plt.show()"
   ]
  },
  {
   "cell_type": "markdown",
   "metadata": {},
   "source": [
    "当てはまりはよくなった。"
   ]
  },
  {
   "cell_type": "markdown",
   "metadata": {},
   "source": [
    "### 真の値と比べてみると...?"
   ]
  },
  {
   "cell_type": "code",
   "execution_count": 33,
   "metadata": {},
   "outputs": [
    {
     "data": {
      "text/plain": [
       "array([0.58723567, 0.41276433])"
      ]
     },
     "execution_count": 33,
     "metadata": {},
     "output_type": "execute_result"
    }
   ],
   "source": [
    "EMM.weight"
   ]
  },
  {
   "cell_type": "code",
   "execution_count": 34,
   "metadata": {},
   "outputs": [
    {
     "name": "stdout",
     "output_type": "stream",
     "text": [
      "0.048228218088447364\n",
      "0.14470321409773074\n"
     ]
    }
   ],
   "source": [
    "for i in range(len(EMM.weight)):\n",
    "    print(EMM.ExpDist_list[i].param_la)"
   ]
  },
  {
   "cell_type": "code",
   "execution_count": 29,
   "metadata": {},
   "outputs": [
    {
     "data": {
      "image/png": "[encoded data removed]",
      "text/plain": [
       "<Figure size 432x288 with 1 Axes>"
      ]
     },
     "metadata": {
      "needs_background": "light"
     },
     "output_type": "display_data"
    }
   ],
   "source": [
    "plt.plot(EMM.ExpDist_list[0].PDF(x_dist)*EMM.weight[0])\n",
    "plt.plot(EMM.ExpDist_list[1].PDF(x_dist)*EMM.weight[1])\n",
    "#plt.plot(np.exp(EMM.log_pdf(x_dist)))\n",
    "plt.show()"
   ]
  },
  {
   "cell_type": "code",
   "execution_count": 35,
   "metadata": {},
   "outputs": [
    {
     "data": {
      "image/png": "[encoded data removed]",
      "text/plain": [
       "<Figure size 432x288 with 1 Axes>"
      ]
     },
     "metadata": {
      "needs_background": "light"
     },
     "output_type": "display_data"
    }
   ],
   "source": [
    "max_time_1and2 = np.max(time_1and2).astype(int)\n",
    "bins_1and2 = range(0,max_time_1and2,5)\n",
    "\n",
    "plt.plot(EMM.ExpDist_list[1].PDF(x_dist))\n",
    "plt.plot(EMM.ExpDist_list[0].PDF(x_dist)) #*EMM.weight[0]\n",
    "\n",
    "#hist\n",
    "plt.hist(time_1,bins = bins_1and2,alpha = 0.5,density = True)\n",
    "plt.hist(time_2,bins = bins_1and2,alpha = 0.5,density = True)\n",
    "\n",
    "plt.show()"
   ]
  },
  {
   "cell_type": "markdown",
   "metadata": {},
   "source": [
    "ある程度フィットしている"
   ]
  },
  {
   "cell_type": "markdown",
   "metadata": {},
   "source": [
    "## 考察"
   ]
  },
  {
   "cell_type": "markdown",
   "metadata": {},
   "source": [
    "クラスタの数がわかっていればある程度は推定できそう。また、AIC等のモデル評価基準を使って、クラスタ数を決めることができかもしれない。"
   ]
  }
 ],
 "metadata": {
  "kernelspec": {
   "display_name": "Python 3",
   "language": "python",
   "name": "python3"
  },
  "language_info": {
   "codemirror_mode": {
    "name": "ipython",
    "version": 3
   },
   "file_extension": ".py",
   "mimetype": "text/x-python",
   "name": "python",
   "nbconvert_exporter": "python",
   "pygments_lexer": "ipython3",
   "version": "3.7.4"
  }
 },
 "nbformat": 4,
 "nbformat_minor": 2
}
