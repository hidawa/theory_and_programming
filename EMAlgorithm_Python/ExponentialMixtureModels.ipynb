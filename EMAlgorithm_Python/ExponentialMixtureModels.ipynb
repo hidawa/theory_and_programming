{
 "cells": [
  {
   "cell_type": "markdown",
   "metadata": {},
   "source": [
    "# 混合分布モデルの応用"
   ]
  },
  {
   "cell_type": "markdown",
   "metadata": {},
   "source": [
    "### テーマ"
   ]
  },
  {
   "cell_type": "markdown",
   "metadata": {},
   "source": [
    "## 「イベント発生までの時間データを用いたセグメンテーション」"
   ]
  },
  {
   "cell_type": "markdown",
   "metadata": {},
   "source": [
    "　指数分布の混合モデルを用いてデータのセグメンテーションを行う、教師なし学習アルゴリズムを実装しました。セグメントごとのイベント発生頻度を推定できます。また、新しいデータの分類も行うことができます。"
   ]
  },
  {
   "cell_type": "markdown",
   "metadata": {},
   "source": [
    "### 実装に至った背景"
   ]
  },
  {
   "cell_type": "markdown",
   "metadata": {},
   "source": [
    "　私は、複数の企業でデータアナリストとして長期インターンシップを経験しました。\n",
    "そのなかで、イベント発生までの時間に関するデータを扱うことが多くありました。\n",
    "具体的に扱った事例としては、webサイト登録者が解約するまでの時間データや、顧客の再来店までの時間データです。\n",
    "インターンに参加していたときは、これらのデータの集計や、統計的な要因分析とモデルの構築を行いました。\n",
    "\n",
    "　しかしインターン終了後に私は、これらのデータから「イベントの発生頻度ごと」に、グループ分けを行う教師なし学習アルゴリズムを作りたいと考えました。\n",
    "理由は、観測された時間データから速やかに意思決定を行うことができるからです。\n",
    "例えば、あるイベントについて、高頻度でイベントを発生するユーザーと、低頻度のユーザーでは思考に違いがあると予想されます。セグメンテーションを行うことで、処方的な対策へと繋げることができます。\n",
    "\n",
    "　インターン参加期間中には、アルゴリズムの実装は行えず発展的な分析は行えませんでした。しかし今後、似た分析を行ったときに今回のモデルを用いてビジネス上の意思決定に繋げていきたいです。"
   ]
  },
  {
   "cell_type": "markdown",
   "metadata": {},
   "source": [
    "### アプローチ1"
   ]
  },
  {
   "cell_type": "markdown",
   "metadata": {},
   "source": [
    "　色々なデータ分析を経験したなかで、イベント発生までの時間は、右肩下がりの分布になっていることが多かったです。\n",
    "このことから、一般的なイベントはポアソン過程に従っているのではないかと考えました。\n",
    "そしてポアソン過程に従うイベントの発生までの観測時間は指数分布に従うことを用いました。"
   ]
  },
  {
   "cell_type": "markdown",
   "metadata": {},
   "source": [
    "### アプローチ2"
   ]
  },
  {
   "cell_type": "markdown",
   "metadata": {},
   "source": [
    "　次に、指数分布の観測データからセグメンテーションを行うアルゴリズムを考えました。\n",
    "ここでは混合モデルによる推定を用いました。推定方法については、計算の速い最尤法で、EMアルゴリズムを使いました。\n",
    "\n",
    "<br>\n",
    "\n",
    "<br>"
   ]
  },
  {
   "cell_type": "markdown",
   "metadata": {},
   "source": [
    "## アルゴリズムの導出"
   ]
  },
  {
   "cell_type": "markdown",
   "metadata": {},
   "source": [
    "データ$x_i, i = 1, \\cdots, N$が与えられているとし、$x_i$ はイベント発生までにかかる時間とします。\n",
    "\n",
    "ポアソン過程に従うイベントの場合、この時間$x_i$は指数分布に従います。\n",
    "\n",
    "パラメーター $\\lambda$ を持つ指数分布の確率密度関数(pdf)は、次のように定義されます。\n",
    "\n",
    "$$\n",
    "f(x_i) = \\lambda exp(-\\lambda x_i)\n",
    "$$"
   ]
  },
  {
   "cell_type": "markdown",
   "metadata": {},
   "source": [
    "次に指数分布の混合モデルを考えます。\n",
    "\n",
    "$\\lambda = (\\lambda_1,\\lambda_2,\\cdots,\\lambda_K)$ , $\\lambda_k > 0$,<br>\n",
    "$\\pi = (\\pi_1,\\pi_2,\\cdots,\\pi_K)$ , $0<\\pi_k<1$ , $\\sum_{k = 1}^{K}\\pi_k = 1 $を満たすとします。\n",
    "\n",
    "$\\pi_k$は、混合確率を表し、K個の指数分布を混合します。\n",
    "\n",
    "混合指数分布のpdfは、\n",
    "\n",
    "$$\n",
    "f(x_i|\\pi,\\lambda) = \\sum_{k = 1}^{K}\\pi_k \\lambda_k exp(-\\lambda_k x_i)\n",
    "$$\n",
    "\n",
    "となります。"
   ]
  },
  {
   "cell_type": "markdown",
   "metadata": {},
   "source": [
    "次に、N個のデータから、最尤推定を行います。最適化問題は対数尤度関数を用いて、\n",
    "\n",
    "$$\n",
    "\\max_{\\lambda,\\pi} \n",
    "    \\left[\n",
    "        \\sum_{i=1}^{N}\n",
    "            \\log{\\sum_{k = 1}^{K}\\pi_k \\lambda_k exp(-\\lambda_k x_i)}\n",
    "    \\right]　\\\\ \\\\\n",
    "s.t. \\sum_{k = 1}^{K}\\pi_{k} = 1\n",
    "$$\n",
    "\n",
    "このままでは、解析的に解くのが難しいため、\n",
    "対数尤度関数の下界を最大化する式に変形すると、\n",
    "\n",
    "$$\n",
    "\\max_{Q}\n",
    "    \\left[\n",
    "        \\sum_{i = 1}^{N}\\sum_{k = 1}^{K}Q_{ik}(\\log{\\pi_k} + \n",
    "        \\log{\\lambda_k} -\\lambda_k x -\\log{Q_{ik}})\n",
    "    \\right]\\\\ \\\\\n",
    "s.t. \\sum_{k = 1}^{K}Q_{ik} = 1 , i = 1,\\cdots, N\n",
    "$$"
   ]
  },
  {
   "cell_type": "markdown",
   "metadata": {},
   "source": [
    "上記の最適化問題をラグランジュ未定乗数法で$Q_{ik}$について解き、\n",
    "\n",
    "$$\n",
    "Q_{ik} = \\frac{\\pi_k\\lambda_k\\exp(-\\lambda_k x_i)}\n",
    "{\\sum_{k'= 1}^{K}\\pi_{k'}\\lambda_{k'}\\exp(-\\lambda_{k'}x_i)}\n",
    "$$\n",
    "\n",
    "この$Q_{ik}$を使って、関数を最大化する$\\lambda_k,\\pi_k$について解くと、\n",
    "\n",
    "$$\n",
    "\\begin{align}\n",
    "\\lambda_k &= \\frac{\\sum_{i = 1}^{N}Q_{ik}}{\\sum_{i' = \n",
    "1}^{N}Q_{i'k}x_{i'}} \\\\\n",
    "\\pi_k &= \\frac{\\sum_{i = 1}^{N}Q_{ik}}{\\sum_{i' = \n",
    "1}^{N}\\sum_{k' = 1}^{K} Q_{i'k'}}\n",
    "\\end{align}\n",
    "$$\n",
    "\n",
    "となります。<br>\n",
    "\n",
    "これら$Q_{ik}, \\lambda_k, \\pi_k$を逐次的に更新することで、パラメーターの局所最適解を得ることができます。\n"
   ]
  },
  {
   "cell_type": "markdown",
   "metadata": {},
   "source": [
    "## アルゴリズムの実装(Python)"
   ]
  },
  {
   "cell_type": "code",
   "execution_count": 1,
   "metadata": {},
   "outputs": [],
   "source": [
    "import numpy as np"
   ]
  },
  {
   "cell_type": "code",
   "execution_count": 2,
   "metadata": {},
   "outputs": [],
   "source": [
    "# 指数分布単体のクラス\n",
    "class ExpDistribution:\n",
    "    def __init__(self):\n",
    "        self.param_la = np.random.rand(1)\n",
    "    \n",
    "    # DensityFunction\n",
    "    def PDF(self,x):\n",
    "        return self.param_la * np.exp(-1 * self.param_la * x)\n",
    "    \n",
    "    # MaximumLikelihoodEstimation\n",
    "    def MLEfit(self,x):\n",
    "        self.param_la = len(x) / np.sum(x)\n",
    "        return self.param_la\n",
    "    \n",
    "    def set_lambda(self,param_la):\n",
    "        self.param_la = param_la\n",
    "\n",
    "# 混合モデルのクラス\n",
    "class ExpMixModel:\n",
    "    def __init__(self,num_components = 2):\n",
    "        self.num_components = num_components\n",
    "        self.ExpDist_list = []\n",
    "        self.weight = np.ones(self.num_components) / self.num_components\n",
    "        for _ in range(self.num_components):\n",
    "            self.ExpDist_list.append(ExpDistribution())\n",
    "        \n",
    "    def e_step(self, X):\n",
    "        posterior = np.zeros((X.shape[0], self.num_components))\n",
    "        for each_component in range(self.num_components):\n",
    "            posterior[:, each_component] \\\n",
    "               = self.weight[each_component] * self.ExpDist_list[each_component].PDF(X)\n",
    "        posterior = posterior / posterior.sum(axis=1).reshape(-1, 1)\n",
    "        return posterior\n",
    "    \n",
    "    def m_step(self, X, posterior):\n",
    "        self.weight = posterior.sum(axis=0)\n",
    "        for each_component in range(self.num_components):\n",
    "\n",
    "            self.ExpDist_list[each_component].set_lambda( self.weight[each_component] / (posterior[:, each_component] @ X))\n",
    "            \n",
    "        self.weight = self.weight / np.sum(self.weight)\n",
    "    \n",
    "    def log_pdf(self, X):\n",
    "        sample_size = X.shape[0]\n",
    "        likelihood = np.zeros(sample_size) # 各データの尤度を計算する\n",
    "        for each_component in range(self.num_components):\n",
    "            likelihood = likelihood + self.weight[each_component] * self.ExpDist_list[each_component].PDF(X)\n",
    "        # 対数尤度を返す\n",
    "        return np.log(likelihood)\n",
    "    \n",
    "    def fit(self, X, eps=1e-8):\n",
    "        sample_size = X.shape[0]\n",
    "        converge = False\n",
    "        old_ll = -np.inf\n",
    "        new_ll = -np.inf\n",
    "        while not converge:\n",
    "            posterior = self.e_step(X)\n",
    "            self.m_step(X, posterior)\n",
    "            new_ll = self.log_pdf(X).sum()\n",
    "            if new_ll < old_ll:\n",
    "                raise ValueError('likelihood decreases!')\n",
    "            if np.abs(old_ll - new_ll) / np.abs(new_ll) < eps:\n",
    "                converge = True\n",
    "            old_ll = new_ll\n",
    "        return posterior"
   ]
  },
  {
   "cell_type": "markdown",
   "metadata": {},
   "source": [
    "## アルゴリズムの応用"
   ]
  },
  {
   "cell_type": "markdown",
   "metadata": {},
   "source": [
    "### シミュレーションデータの生成"
   ]
  },
  {
   "cell_type": "markdown",
   "metadata": {},
   "source": [
    "　今回のシミュレーションデータでは、２つの集団があると仮定します。１つは、時間が１進むごとに確率0.05でイベントが発生する集団で、もう１つは、時間が１進むごとに確率0.2でイベントが発生する集団とします。データのサイズはそれぞれ、200000と100000です。\n",
    "\n",
    "　これらの集団から同時に観測され、どちらの集団から発生したのかわからない状態のデータに対して、先ほどのアルゴリズムを使い、教師なし学習として機能しているかを確認します。すなわち、学習に使うデータは観測された時間のデータのみとし、予測ラベルは与えられてないものとします。"
   ]
  },
  {
   "cell_type": "code",
   "execution_count": 3,
   "metadata": {},
   "outputs": [],
   "source": [
    "import matplotlib.pyplot as plt"
   ]
  },
  {
   "cell_type": "code",
   "execution_count": 4,
   "metadata": {},
   "outputs": [],
   "source": [
    "# 確率一定でランダムに起きる事象をシミュレーション\n",
    "def rand_event(size_N = 5000,event_p = 0.05):\n",
    "    x = np.zeros(size_N)\n",
    "    j = 0\n",
    "    # 今回は観測打ち切りはない\n",
    "\n",
    "    while np.any(x == 0):\n",
    "        j += 1\n",
    "        y = np.random.binomial(n = 1,p = event_p,size = size_N)*j\n",
    "    \n",
    "        x = np.where((y != 0) & (x ==0),y,x)\n",
    "\n",
    "    return x"
   ]
  },
  {
   "cell_type": "code",
   "execution_count": 5,
   "metadata": {},
   "outputs": [],
   "source": [
    "K = 2\n",
    "sample_size_1 = 200000\n",
    "sample_size_2 = 100000\n",
    "\n",
    "np.random.seed(0)\n",
    "time_1 = rand_event(size_N = sample_size_1,event_p=0.05)\n",
    "time_2 = rand_event(size_N = sample_size_2,event_p=0.2)\n",
    "time_1and2 = np.hstack((time_1,time_2))"
   ]
  },
  {
   "cell_type": "code",
   "execution_count": 6,
   "metadata": {},
   "outputs": [
    {
     "data": {
      "image/png": "[encoded data removed]",
      "text/plain": [
       "<Figure size 432x288 with 1 Axes>"
      ]
     },
     "metadata": {
      "needs_background": "light"
     },
     "output_type": "display_data"
    }
   ],
   "source": [
    "max_time_1and2 = np.max(time_1and2).astype(int)\n",
    "bins_1and2 = range(0,max_time_1and2,5)\n",
    "\n",
    "plt.hist(time_1,bins = bins_1and2,alpha = 0.5)\n",
    "plt.hist(time_2,bins = bins_1and2,alpha = 0.5)\n",
    "plt.title('True histograms of two segments')\n",
    "plt.legend(['histogram:0.05','histogram:0.2'])\n",
    "\n",
    "plt.show()"
   ]
  },
  {
   "cell_type": "markdown",
   "metadata": {},
   "source": [
    "真の分布は上記の分布です。ただし今回はどちらの集団に属しているのかは観測できなため、以下のような分布で学習を行います。"
   ]
  },
  {
   "cell_type": "code",
   "execution_count": 7,
   "metadata": {},
   "outputs": [
    {
     "data": {
      "image/png": "[encoded data removed]",
      "text/plain": [
       "<Figure size 432x288 with 1 Axes>"
      ]
     },
     "metadata": {
      "needs_background": "light"
     },
     "output_type": "display_data"
    }
   ],
   "source": [
    "plt.hist(time_1and2,stacked = True,bins = 50)\n",
    "plt.title('Observable histogram')\n",
    "plt.show()"
   ]
  },
  {
   "cell_type": "markdown",
   "metadata": {},
   "source": [
    "### 単純な指数分布で推定した場合"
   ]
  },
  {
   "cell_type": "code",
   "execution_count": 8,
   "metadata": {},
   "outputs": [
    {
     "data": {
      "image/png": "[encoded data removed]",
      "text/plain": [
       "<Figure size 432x288 with 1 Axes>"
      ]
     },
     "metadata": {
      "needs_background": "light"
     },
     "output_type": "display_data"
    }
   ],
   "source": [
    "# パラメーターを最尤推定値で更新\n",
    "Exp_object = ExpDistribution()\n",
    "Exp_object.MLEfit(time_1and2)\n",
    "x_dist = np.arange(np.max(time_1and2))\n",
    "\n",
    "plt.hist(time_1and2,bins = 50,density = True)\n",
    "plt.plot(Exp_object.PDF(x_dist))\n",
    "plt.show()"
   ]
  },
  {
   "cell_type": "markdown",
   "metadata": {},
   "source": [
    "この場合、うまく推定できていません。"
   ]
  },
  {
   "cell_type": "markdown",
   "metadata": {},
   "source": [
    "### 混合指数モデルによる学習結果"
   ]
  },
  {
   "cell_type": "code",
   "execution_count": 9,
   "metadata": {},
   "outputs": [
    {
     "data": {
      "image/png": "[encoded data removed]",
      "text/plain": [
       "<Figure size 432x288 with 1 Axes>"
      ]
     },
     "metadata": {
      "needs_background": "light"
     },
     "output_type": "display_data"
    }
   ],
   "source": [
    "# オブジェクトを作る\n",
    "np.random.seed(0)\n",
    "EMM = ExpMixModel()\n",
    "\n",
    "# パラメーターをEMアルゴリズムで更新\n",
    "EMM.fit(time_1and2)\n",
    "x_dist = np.arange(np.max(time_1and2))\n",
    "\n",
    "plt.hist(time_1and2,bins = 50,density = True)\n",
    "plt.plot(np.exp(EMM.log_pdf(x_dist)))\n",
    "plt.show()"
   ]
  },
  {
   "cell_type": "markdown",
   "metadata": {},
   "source": [
    "パラメーターの更新によってヒストグラムに当てはめることができました。"
   ]
  },
  {
   "cell_type": "markdown",
   "metadata": {},
   "source": [
    "### 推定結果と真の集団との比較"
   ]
  },
  {
   "cell_type": "markdown",
   "metadata": {},
   "source": [
    "アルゴリズムで推定された分布と、真の分布を比較します。"
   ]
  },
  {
   "cell_type": "code",
   "execution_count": 10,
   "metadata": {},
   "outputs": [
    {
     "data": {
      "image/png": "[encoded data removed]",
      "text/plain": [
       "<Figure size 432x288 with 1 Axes>"
      ]
     },
     "metadata": {
      "needs_background": "light"
     },
     "output_type": "display_data"
    },
    {
     "name": "stdout",
     "output_type": "stream",
     "text": [
      "セグメント1： 0.048228218088447364\n",
      "セグメント2： 0.14470321409773074\n"
     ]
    }
   ],
   "source": [
    "plt.plot(EMM.ExpDist_list[0].PDF(x_dist))\n",
    "plt.hist(time_1,bins = bins_1and2,alpha = 0.5,density = True)\n",
    "\n",
    "plt.hist(time_2,bins = bins_1and2,alpha = 0.4,density = True) #0.05\n",
    "plt.plot(EMM.ExpDist_list[1].PDF(x_dist))\n",
    "\n",
    "\n",
    "plt.legend(['estimation : 0.048', 'estimation : 0.145', 'histogram : 0.05', 'histogram : 0.2'])\n",
    "\n",
    "plt.show()\n",
    "for i in range(K):\n",
    "    print('セグメント'+str(i + 1)+'：',\n",
    "          EMM.ExpDist_list[i].param_la)"
   ]
  },
  {
   "cell_type": "markdown",
   "metadata": {},
   "source": [
    "推定結果から、確率0.05でイベントを発生させる集団と、確率0.15でイベントを発生させる集団に分類できることがわかります。\n",
    "\n",
    "シミュレーションデータと比較すると、0.05の集団は正しく推定できていますが、0.2の集団のほうは、0.15と推定しているため、少し精度が悪いです。"
   ]
  },
  {
   "cell_type": "markdown",
   "metadata": {},
   "source": [
    "### 考察と今後の課題"
   ]
  },
  {
   "cell_type": "markdown",
   "metadata": {},
   "source": [
    "　今回のアルゴリズムでは、クラスター数の特定について曖昧なため、パラメーターの評価について見直す必要があると考えました。またイベント発生時間以外のデータも用いて、潜在変数モデルを拡張したいと考えています。今回のデータでは、観測の打ち切りを考慮していないため、生存時間解析理論等を用いてさらにアルゴリズムを発展させたいとも考えています。"
   ]
  },
  {
   "cell_type": "markdown",
   "metadata": {},
   "source": [
    "### 【参考文献】"
   ]
  },
  {
   "cell_type": "markdown",
   "metadata": {},
   "source": [
    "【書籍】\n",
    "\n",
    "Pattern Recognition and Machine Learning（Information Science and Statistics）\n",
    "著者：Christopher M. Bishop\n",
    "出版社：Springer\n",
    "\n",
    "<br>\n",
    "\n",
    "【サイト】\n",
    "\n",
    "指数混合分布 (Mixture of Exponential Distributions) 推定のバースト検出への応用<br>\n",
    "http://nktmemoja.github.io/jekyll/update/2017/03/19/time-series-analysis.html"
   ]
  }
 ],
 "metadata": {
  "kernelspec": {
   "display_name": "Python 3",
   "language": "python",
   "name": "python3"
  },
  "language_info": {
   "codemirror_mode": {
    "name": "ipython",
    "version": 3
   },
   "file_extension": ".py",
   "mimetype": "text/x-python",
   "name": "python",
   "nbconvert_exporter": "python",
   "pygments_lexer": "ipython3",
   "version": "3.7.4"
  }
 },
 "nbformat": 4,
 "nbformat_minor": 2
}
