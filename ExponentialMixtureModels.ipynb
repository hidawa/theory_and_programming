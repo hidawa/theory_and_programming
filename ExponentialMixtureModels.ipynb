{
 "cells": [
  {
   "cell_type": "markdown",
   "metadata": {},
   "source": [
    "# インポートモジュール"
   ]
  },
  {
   "cell_type": "code",
   "execution_count": 1,
   "metadata": {},
   "outputs": [],
   "source": [
    "import numpy as np\n",
    "import matplotlib.pyplot as plt\n",
    "import scipy"
   ]
  },
  {
   "cell_type": "markdown",
   "metadata": {},
   "source": [
    "# 1.まず指数分布について"
   ]
  },
  {
   "cell_type": "markdown",
   "metadata": {},
   "source": [
    "## 指数分布のクラスを作る"
   ]
  },
  {
   "cell_type": "markdown",
   "metadata": {},
   "source": [
    "指数分布の確率密度関数は、\n",
    "$$\n",
    "f(x) = \\lambda exp(-\\lambda x)\n",
    "$$\n",
    "\n",
    "であり、N個のサンプルの対数尤度関数は、\n",
    "$$\n",
    "\\begin{align}\n",
    "l(\\lambda|x) &= \\sum_{i = 1}^{N}\\log(\\lambda exp(-\\lambda x_i)) \\\\\n",
    "&=n\\log\\lambda - \\lambda \\sum_{i = 1}^{N}x_j\n",
    "\\end{align}\n",
    "$$\n",
    "\n",
    "よって最尤推定量は、\n",
    "$$\n",
    "\\hat{\\lambda}^{MLE} = \\frac{N}{\\sum_{i = 1}^{N}x_i}\n",
    "$$"
   ]
  },
  {
   "cell_type": "code",
   "execution_count": 15,
   "metadata": {},
   "outputs": [],
   "source": [
    "class ExpDistribution:\n",
    "    def __init__(self):\n",
    "        self.param_la = 1\n",
    "    \n",
    "    # DensityFunction\n",
    "    def PDF(self,x):\n",
    "        return self.param_la * np.exp(-1 * self.param_la * x)\n",
    "    \n",
    "    # MaximumLikelihoodEstimation\n",
    "    def MLEfit(self,x):\n",
    "        self.param_la = len(x) / np.sum(x)\n",
    "        return self.param_la"
   ]
  },
  {
   "cell_type": "markdown",
   "metadata": {},
   "source": [
    "## ポアソン過程をシミュレーション"
   ]
  },
  {
   "cell_type": "code",
   "execution_count": 38,
   "metadata": {},
   "outputs": [],
   "source": [
    "# 確率一定でランダムに起きる事象をシミュレーション\n",
    "def rand_event(size = 10000,event_p = 0.05):\n",
    "    x = np.zeros(size)\n",
    "    j = 0\n",
    "    #for j in range(int(1/event_p) *100):\n",
    "    while np.any(x == 0):\n",
    "        j += 1\n",
    "        for i in range(size):\n",
    "            if (np.random.binomial(n = 1,p = event_p) == 1) & (x[i] == 0):\n",
    "                x[i] = j\n",
    "    return x"
   ]
  },
  {
   "cell_type": "code",
   "execution_count": 68,
   "metadata": {},
   "outputs": [
    {
     "data": {
      "image/png": "[encoded data removed]",
      "text/plain": [
       "<Figure size 432x288 with 1 Axes>"
      ]
     },
     "metadata": {
      "needs_background": "light"
     },
     "output_type": "display_data"
    }
   ],
   "source": [
    "x = rand_event()\n",
    "plt.hist(x,bins = 50)\n",
    "plt.show()"
   ]
  },
  {
   "cell_type": "markdown",
   "metadata": {},
   "source": [
    "## 指数分布とポアソン過程を比べる"
   ]
  },
  {
   "cell_type": "code",
   "execution_count": 69,
   "metadata": {},
   "outputs": [],
   "source": [
    "# 連続した整数\n",
    "y = np.arange(200)\n",
    "Exp_object = ExpDistribution()"
   ]
  },
  {
   "cell_type": "code",
   "execution_count": 70,
   "metadata": {},
   "outputs": [
    {
     "data": {
      "text/plain": [
       "[<matplotlib.lines.Line2D at 0x1f9d97bb588>]"
      ]
     },
     "execution_count": 70,
     "metadata": {},
     "output_type": "execute_result"
    },
    {
     "data": {
      "image/png": "[encoded data removed]",
      "text/plain": [
       "<Figure size 432x288 with 1 Axes>"
      ]
     },
     "metadata": {
      "needs_background": "light"
     },
     "output_type": "display_data"
    }
   ],
   "source": [
    "plt.plot(Exp_object.PDF(y)*1000)"
   ]
  },
  {
   "cell_type": "markdown",
   "metadata": {},
   "source": [
    "分布は似てる、似てない？"
   ]
  },
  {
   "cell_type": "markdown",
   "metadata": {},
   "source": [
    "# シミュレートしたデータに対して、指数分布をfitting"
   ]
  },
  {
   "cell_type": "code",
   "execution_count": 71,
   "metadata": {},
   "outputs": [
    {
     "data": {
      "text/plain": [
       "[<matplotlib.lines.Line2D at 0x1f9db63d748>]"
      ]
     },
     "execution_count": 71,
     "metadata": {},
     "output_type": "execute_result"
    },
    {
     "data": {
      "image/png": "[encoded data removed]",
      "text/plain": [
       "<Figure size 432x288 with 1 Axes>"
      ]
     },
     "metadata": {
      "needs_background": "light"
     },
     "output_type": "display_data"
    }
   ],
   "source": [
    "# パラメーターを最尤推定値で更新\n",
    "Exp_object.MLEfit(x)\n",
    "plt.plot(Exp_object.PDF(y)*1000)"
   ]
  },
  {
   "cell_type": "code",
   "execution_count": 72,
   "metadata": {},
   "outputs": [
    {
     "data": {
      "image/png": "[encoded data removed]",
      "text/plain": [
       "<Figure size 432x288 with 1 Axes>"
      ]
     },
     "metadata": {
      "needs_background": "light"
     },
     "output_type": "display_data"
    }
   ],
   "source": [
    "bins_num = 50\n",
    "plt.hist(x,bins = bins_num)\n",
    "plt.plot(Exp_object.PDF(y) * (bins_num-10) * 1000)\n",
    "plt.show()"
   ]
  },
  {
   "cell_type": "markdown",
   "metadata": {},
   "source": [
    "フィットしている"
   ]
  },
  {
   "cell_type": "markdown",
   "metadata": {},
   "source": [
    "# 2.指数混合モデル"
   ]
  },
  {
   "cell_type": "markdown",
   "metadata": {},
   "source": [
    "## 利点"
   ]
  },
  {
   "cell_type": "markdown",
   "metadata": {},
   "source": [
    "あるイベント(ポアソン過程に従う)についての発生確率が異なる集団に対して、一つの確率分布で表現できる。<br>\n",
    "イベントが発生するまでの時間に関してのデータのみが観測できたとき、そのデータを使って、クラスタを特定(ただし、確率的)できる。"
   ]
  },
  {
   "cell_type": "markdown",
   "metadata": {},
   "source": [
    "## 初期状態"
   ]
  },
  {
   "cell_type": "code",
   "execution_count": 2,
   "metadata": {},
   "outputs": [],
   "source": [
    "K = 2\n",
    "sample_size = 100"
   ]
  },
  {
   "cell_type": "code",
   "execution_count": null,
   "metadata": {},
   "outputs": [],
   "source": []
  }
 ],
 "metadata": {
  "kernelspec": {
   "display_name": "Python 3",
   "language": "python",
   "name": "python3"
  },
  "language_info": {
   "codemirror_mode": {
    "name": "ipython",
    "version": 3
   },
   "file_extension": ".py",
   "mimetype": "text/x-python",
   "name": "python",
   "nbconvert_exporter": "python",
   "pygments_lexer": "ipython3",
   "version": "3.7.4"
  }
 },
 "nbformat": 4,
 "nbformat_minor": 2
}
